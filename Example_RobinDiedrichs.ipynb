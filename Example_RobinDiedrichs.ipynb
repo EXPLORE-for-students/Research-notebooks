{
 "cells": [
  {
   "cell_type": "markdown",
   "metadata": {},
   "source": [
    "# Research Notebook\n",
    "## Robin Diedrichs (Junior Mentor)\n",
    "## Date: Dec. 13-17"
   ]
  },
  {
   "cell_type": "markdown",
   "metadata": {},
   "source": [
    "# 1: Experience\n",
    "\n",
    "- Read up on dark matter (DM) cores within compact stars.\n",
    "- Looked into r-mode oscillations and the possible impact of DM on them.\n",
    "\n",
    "## Motivation:\n",
    "\n",
    "I need to dive deeper into neutron star properties for my coming projects and therefore need to especially review the above mentioned branches. The mentioned topics will espcially be important when studying the effect of WIMP DM on NS. The hope is to find new constraints on DM properties by using data from observed gravitaitional wave (GW) events. "
   ]
  },
  {
   "cell_type": "markdown",
   "metadata": {},
   "source": [
    "# 2: What? (What happened?)\n",
    "## Describe what happened during your activities for the week.\n",
    "\n",
    "__DM cores within NS__:\n",
    "\n",
    "If we assume that the DM is thermalized within a neutron star (NS) core and if the average seperation between DM particles is larger than their de Broglie wavelength, then we can use a Boltzmann distribution to model their density. Assuming the NS core to have a homogeneous density $\\rho_\\text{NS}$ and core extent $a$, then the gravitational potential inside the core is $\\phi(r) = -2\\pi G \\rho_\\text{NS} (a^2 - r^2/3)$. At temperature $T$ and $r < a$ we therefore have for the DM density distribution\n",
    "\n",
    "\\begin{equation*}\n",
    "    \\rho(r) = \\rho_0 \\exp\\left[ -\\frac{2 \\pi G \\rho_\\text{NS}\\, m_\\text{DM}\\, r^2}{3\\,k_B T} \\right],\n",
    "\\end{equation*}\n",
    "\n",
    "with $m_\\text{DM}$ the DM particle mass and $\\rho_0$ the central DM density. Calculating the root mean square (rms) of $r$ we get\n",
    "\n",
    "\\begin{equation*}\n",
    "    r_\\text{rms}^2 \\equiv \\frac{4\\pi \\int_0^\\infty r^4 \\rho(r) dr}{4 \\pi \\int_0^\\infty r^2 \\rho(r) dr} = \\frac{9 k_B T}{4 \\pi G \\rho_\\text{NS}\\, m_\\text{DM}}.\n",
    "\\end{equation*}\n",
    "\n",
    "Reference [1] gives an account on the approximations and assumptions that go into the above calculation.\n",
    "\n",
    "__r-mode oscillations__:\n",
    "\n",
    "Read [2] and [3], where r-modes are invesigated in combination with DM. Interestingly, a bit of DM can increase viscosity in NS and therefore balances the r-mode instability at higher rotation frequencies.\n",
    "\n",
    "Also, if you consider a star made up of only fermionic DM [3], then they have a relatively small shear viscosity, meaning that the r-mode instability will reduce the rotation frequency efficiently down to about 20\\% of the Keplerian limit.\n",
    "\n",
    "Note that in general we have that strongly coupled fields exhibit low viscosity, while weakly coupled fields have higher viscosity. While this might be unintuitiv at first glance, it kind of makes sense since weak coupling means longer mean free paths and thus changes at a position A can propagate faster to position B. (Note that this is just the typical behavior, which must not be true in all cases. See chapter 4.1 in [3].)"
   ]
  },
  {
   "cell_type": "markdown",
   "metadata": {},
   "source": [
    "# 3: So what? (What does it mean?)\n",
    "## Describe your results\n",
    "\n",
    "__DM cores in NS__:\n",
    "\n",
    "When calculating the \"thermal radius\" $r_\\text{rms}$ using the above formula for typical values of NS cores, such as $\\rho_\\text{NS} \\approx 10^{15}\\,\\text{g/cm}^3$, $T \\approx 10^6\\,\\text{K}$ and $m_\\text{DM} \\approx 100\\,\\text{GeV}$, we get $r_\\text{rms} \\approx \\mathcal{O}(10)\\,\\text{cm}$. The extent of the DM core is therefore relatively small compared to the extent of the NS core $\\approx \\mathcal{O}(10)\\,\\text{km}$. If we are interested in the GW that are produced by NS merger events, then this justifies to treat the DM distribution as point masses during most of the process! This significantly simplifies calculations for the inspiral and merger. I expect that this approximation breaks down during the post-merger though.\n",
    "\n",
    "My equation for the thermal radius is off by a factor of 2 compared to the one given in [1]. While this does not qualitatively change any of the above statements, I should still identify where this deviation comes from.\n",
    "\n",
    "__r-mode oscillations__:\n",
    "\n",
    "Since weak couplings between DM and the NS constituents can have a significant impact on the r-mode stability, it might be possible to infer constraints on DM by using the measured distribution of NS spin frequencies. Note that this is especially relevant for WIMP DM as it falls in the relevant coupling and mass range [2]."
   ]
  },
  {
   "cell_type": "markdown",
   "metadata": {},
   "source": [
    "# 4. Now what? (What's next?)\n",
    "## Plan for the next week\n",
    "\n",
    "I was able to read all chapters and papers that I planned to read.\n",
    "\n",
    "Things to do next week:\n",
    "\n",
    "- I should check my equation for the thermal radius since it deviates by a factor of 2 compared to the one given in [1].\n",
    "\n",
    "- Reference [4] gives a general overview of r-mode oscillations in NS. I should go through it and make sure that I understand it so that I have enough knowledge to start conducting research on them.\n",
    "\n",
    "- It might be worth reading chapter 6 of [5], it seems to neatly summarise EoS properties of NS. I might get some new knowledge or at least a different perspective from this chapter.\n",
    "\n",
    "- Also, I want to refresh my knowledge on f(R) gravity by reading [6]. For our currently starting project on GWs in f(R) theory it will be nice to have firm knowledge on the different aspects of f(R) gravity."
   ]
  },
  {
   "cell_type": "markdown",
   "metadata": {},
   "source": [
    "# 5. Bibliography\n",
    "\n",
    "[1]  Weakly Interacting Massive Particles and Neutron Stars, I. Goldman (Tel Aviv U.), S. Nussinov (Tel Aviv U.), DOI: 10.1103/PhysRevD.40.3221. Published in: Phys.Rev.D 40 (1989), 3221-3230\n",
    "\n",
    "[2]  Dark matter transport properties and rapidly rotating neutron stars, C.J. Horowitz, e-Print: 1205.3541 [astro-ph.HE]\n",
    "\n",
    "[3] Fermionic dark stars spin slowly. Shin'ichirou Yoshida, e-Print: 2011.07285 [astro-ph.HE]\n",
    "\n",
    "[4]   R-modes in neutron stars: Theory and observations, B. Haskell (Melbourne U.), e-Print: 1509.04370 [astro-ph.HE], DOI: 10.1142/S0218301315410074, Published in: Int.J.Mod.Phys.E 24 (2015) 09, 1541007\n",
    "\n",
    "[5]  Neutron stars 1: Equation of state and structure, P. Haensel (Warsaw, Copernicus Astron. Ctr.), A.Y. Potekhin (Ioffe Phys. Tech. Inst.), D.G. Yakovlev (Ioffe Phys. Tech. Inst.), DOI: 10.1007/978-0-387-47301-7, Published in: Astrophys.Space Sci.Libr. 326 (2007), pp.1-619\n",
    "\n",
    "[6]  f(R) theories, Antonio De Felice (Tokyo U. of Sci.), Shinji Tsujikawa (Tokyo U. of Sci.), e-Print: 1002.4928 [gr-qc], DOI: 10.12942/lrr-2010-3, Published in: Living Rev.Rel. 13 (2010), 3"
   ]
  }
 ],
 "metadata": {
  "kernelspec": {
   "display_name": "Python 3",
   "language": "python",
   "name": "python3"
  },
  "language_info": {
   "codemirror_mode": {
    "name": "ipython",
    "version": 3
   },
   "file_extension": ".py",
   "mimetype": "text/x-python",
   "name": "python",
   "nbconvert_exporter": "python",
   "pygments_lexer": "ipython3",
   "version": "3.7.6"
  }
 },
 "nbformat": 4,
 "nbformat_minor": 4
}
